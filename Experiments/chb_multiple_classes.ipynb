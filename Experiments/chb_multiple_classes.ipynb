{
 "cells": [
  {
   "cell_type": "code",
   "execution_count": 4,
   "outputs": [
    {
     "name": "stdout",
     "output_type": "stream",
     "text": [
      "(8282, 256, 23)\n",
      "(8282,)\n"
     ]
    }
   ],
   "source": [
    "import numpy as np\n",
    "\n",
    "train_data = np.load('/mnt/proj\\Diffusion_DGCL\\Data\\datasets\\CHBMIT\\eeg-predictive_train.npz')\n",
    "X_train = train_data['train_signals']\n",
    "X_train = np.transpose(X_train, (0, 2, 1))\n",
    "y_train = train_data['train_labels']\n",
    "print(X_train.shape)\n",
    "print(y_train.shape)"
   ],
   "metadata": {
    "collapsed": false,
    "ExecuteTime": {
     "end_time": "2025-03-21T08:08:06.842125600Z",
     "start_time": "2025-03-21T08:08:06.523874700Z"
    }
   }
  },
  {
   "cell_type": "code",
   "execution_count": 1,
   "outputs": [
    {
     "name": "stderr",
     "output_type": "stream",
     "text": [
      "D:\\dev-software\\anaconda\\envs\\conda_3\\lib\\site-packages\\tqdm\\auto.py:21: TqdmWarning: IProgress not found. Please update jupyter and ipywidgets. See https://ipywidgets.readthedocs.io/en/stable/user_install.html\n",
      "  from .autonotebook import tqdm as notebook_tqdm\n"
     ]
    }
   ],
   "source": [
    "import os\n",
    "import sys\n",
    "sys.path.append(os.path.join(os.path.dirname('__file__'), '../'))\n",
    "\n",
    "import torch\n",
    "import numpy as np\n",
    "\n",
    "from engine.solver import Trainer\n",
    "from Utils.metric_utils import visualization\n",
    "from Data.build_dataloader import build_dataloader\n",
    "from Utils.io_utils import load_yaml_config, instantiate_from_config\n",
    "from Models.interpretable_diffusion.model_utils import unnormalize_to_zero_to_one, cond_fn\n",
    "from Utils.marginal_calibration_eeg import marginal_calibration_eeg\n",
    "import matplotlib.pyplot as plt"
   ],
   "metadata": {
    "collapsed": false,
    "ExecuteTime": {
     "end_time": "2025-03-21T11:07:18.215012800Z",
     "start_time": "2025-03-21T11:07:16.091395200Z"
    }
   }
  },
  {
   "cell_type": "code",
   "execution_count": 2,
   "metadata": {
    "ExecuteTime": {
     "end_time": "2025-03-21T11:07:35.514375Z",
     "start_time": "2025-03-21T11:07:18.215012800Z"
    }
   },
   "outputs": [
    {
     "name": "stdout",
     "output_type": "stream",
     "text": [
      "(8282, 256, 23)\n",
      "(8282,)\n",
      "X_non_seizure-->(6487, 256, 23)\n",
      "X_seizure-->(1795, 256, 23)\n",
      "data-->(2120192, 23)\n",
      "提取前的X_train_1=(1436, 256, 23)\n",
      "提取后的data1=(71, 256, 23)\n"
     ]
    }
   ],
   "source": [
    "class Args_Example:\n",
    "    def __init__(self) -> None:\n",
    "        self.config_path = '../Config/chb.yaml'\n",
    "        self.gpu = 0\n",
    "        self.save_dir = '../chb_exp'\n",
    "        os.makedirs(self.save_dir, exist_ok=True)\n",
    "\n",
    "args =  Args_Example()\n",
    "configs = load_yaml_config(args.config_path)\n",
    "device = torch.device(f'cuda:{args.gpu}' if torch.cuda.is_available() else 'cpu')\n",
    "\n",
    "dl_info = build_dataloader(configs, args)\n",
    "model = instantiate_from_config(configs['model']).to(device)\n",
    "classifier = instantiate_from_config(configs['classifier']).to(device)\n",
    "trainer = Trainer(config=configs, args=args, model=model, dataloader=dl_info)"
   ]
  },
  {
   "cell_type": "code",
   "execution_count": null,
   "metadata": {},
   "outputs": [],
   "source": [
    "trainer.train()"
   ]
  },
  {
   "cell_type": "code",
   "execution_count": null,
   "outputs": [],
   "source": [
    "trainer.train_classfier(classifier)"
   ],
   "metadata": {
    "collapsed": false,
    "is_executing": true
   }
  },
  {
   "cell_type": "code",
   "execution_count": 5,
   "outputs": [],
   "source": [
    "dataset = dl_info['dataset']\n",
    "seq_length, feature_dim = dataset.window, dataset.var_num\n",
    "\n",
    "model_kwargs = {}\n",
    "model_kwargs['classifier'] = trainer.classifier\n",
    "model_kwargs['classifier_scale'] = 0.1"
   ],
   "metadata": {
    "collapsed": false,
    "ExecuteTime": {
     "end_time": "2025-03-14T08:46:56.134998300Z",
     "start_time": "2025-03-14T08:46:56.126865100Z"
    }
   }
  },
  {
   "cell_type": "code",
   "execution_count": 6,
   "outputs": [
    {
     "name": "stderr",
     "output_type": "stream",
     "text": [
      "sampling loop time step: 100%|██████████| 100/100 [00:57<00:00,  1.74it/s]\n",
      "sampling loop time step: 100%|██████████| 100/100 [00:56<00:00,  1.78it/s]\n",
      "sampling loop time step: 100%|██████████| 100/100 [00:56<00:00,  1.77it/s]\n"
     ]
    }
   ],
   "source": [
    "ori_data_1 = dataset.normalize(dataset.data_1)\n",
    "\n",
    "model_kwargs['y'] = torch.ones((1001, )).long().to(device)\n",
    "\n",
    "fake_data_1 = trainer.sample(num=len(ori_data_1), size_every=1001, shape=[seq_length, feature_dim], \n",
    "                             model_kwargs=model_kwargs, cond_fn=cond_fn)\n",
    "if dataset.auto_norm:\n",
    "    ori_data_1 = unnormalize_to_zero_to_one(ori_data_1)\n",
    "    fake_data_1 = unnormalize_to_zero_to_one(fake_data_1)\n"
   ],
   "metadata": {
    "collapsed": false,
    "ExecuteTime": {
     "end_time": "2025-03-14T08:49:54.909518800Z",
     "start_time": "2025-03-14T08:47:04.451161100Z"
    }
   }
  },
  {
   "cell_type": "code",
   "execution_count": null,
   "outputs": [],
   "source": [
    "calibrated = marginal_calibration_eeg(fake_data_1, ori_data_1)"
   ],
   "metadata": {
    "collapsed": false
   }
  },
  {
   "cell_type": "code",
   "execution_count": 7,
   "outputs": [],
   "source": [
    "np.save(os.path.join(args.save_dir, f'calibrated_eeg.npy'), calibrated)\n",
    "np.save(os.path.join(args.save_dir, f'ddpm_fake_1_eeg.npy'), fake_data_1)\n",
    "np.save(os.path.join(args.save_dir, f'ori_data_1.npy'), ori_data_1)"
   ],
   "metadata": {
    "collapsed": false,
    "ExecuteTime": {
     "end_time": "2025-03-14T08:57:43.674372400Z",
     "start_time": "2025-03-14T08:57:43.653341900Z"
    }
   }
  },
  {
   "cell_type": "code",
   "execution_count": null,
   "outputs": [],
   "source": [
    "plt.hist(fake_data_1[:, 24, 14], bins=50, alpha=0.4, label='Before')\n",
    "plt.hist(calibrated[:, 24, 14], bins=50, alpha=0.4, label='After')\n",
    "plt.hist(ori_data_1[:, 24, 14], bins=50, alpha=0.4, label='Real')\n",
    "plt.legend()\n",
    "plt.title(\"Marginal Calibration @ time=64, channel=2\")\n",
    "plt.show()"
   ],
   "metadata": {
    "collapsed": false
   }
  },
  {
   "cell_type": "code",
   "execution_count": null,
   "outputs": [],
   "source": [
    "visualization(ori_data=ori_data_1, generated_data=fake_data_1, analysis='pca', compare=ori_data_1.shape[0])"
   ],
   "metadata": {
    "collapsed": false
   }
  },
  {
   "cell_type": "code",
   "execution_count": null,
   "outputs": [],
   "source": [
    "visualization(ori_data=ori_data_1, generated_data=fake_data_1, analysis='tsne', compare=ori_data_1.shape[0])"
   ],
   "metadata": {
    "collapsed": false
   }
  },
  {
   "cell_type": "code",
   "execution_count": null,
   "outputs": [],
   "source": [
    "visualization(ori_data=ori_data_1, generated_data=fake_data_1, analysis='kernel', compare=ori_data_1.shape[0])"
   ],
   "metadata": {
    "collapsed": false
   }
  }
 ],
 "metadata": {
  "kernelspec": {
   "display_name": "DPlearning_3.8",
   "language": "python",
   "name": "python3"
  },
  "language_info": {
   "codemirror_mode": {
    "name": "ipython",
    "version": 3
   },
   "file_extension": ".py",
   "mimetype": "text/x-python",
   "name": "python",
   "nbconvert_exporter": "python",
   "pygments_lexer": "ipython3",
   "version": "3.8.13"
  }
 },
 "nbformat": 4,
 "nbformat_minor": 2
}
